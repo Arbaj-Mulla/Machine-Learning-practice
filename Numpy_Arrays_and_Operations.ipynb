{
 "cells": [
  {
   "cell_type": "code",
   "execution_count": null,
   "id": "b1d3ac8a-3990-47e7-8c22-8bff3f44f73a",
   "metadata": {},
   "outputs": [],
   "source": [
    "pip install numpy"
   ]
  },
  {
   "cell_type": "code",
   "execution_count": null,
   "id": "5302f2c2-110b-4890-b8af-d8738f525e2f",
   "metadata": {},
   "outputs": [],
   "source": [
    "import numpy as np"
   ]
  },
  {
   "cell_type": "code",
   "execution_count": null,
   "id": "0ea178a4-fa97-4fad-a9fc-a6f40dd02b6f",
   "metadata": {},
   "outputs": [],
   "source": [
    "arr1 = np.array([])\n",
    "arr1"
   ]
  },
  {
   "cell_type": "code",
   "execution_count": null,
   "id": "d2096f5e-b147-4a8f-906e-b427fe5e22b3",
   "metadata": {},
   "outputs": [],
   "source": [
    "type(arr1)"
   ]
  },
  {
   "cell_type": "code",
   "execution_count": null,
   "id": "ab66617f-106a-4c3c-a4b1-430251fe8db6",
   "metadata": {},
   "outputs": [],
   "source": [
    "l1 = []\n",
    "l1"
   ]
  },
  {
   "cell_type": "code",
   "execution_count": null,
   "id": "ccb275d2-af1a-44c5-892c-9feeac0051a8",
   "metadata": {},
   "outputs": [],
   "source": [
    "type(l1)"
   ]
  },
  {
   "cell_type": "code",
   "execution_count": null,
   "id": "da16c151-6cca-45f5-aa93-6ecaa6085e24",
   "metadata": {},
   "outputs": [],
   "source": [
    "l2 = [1,2,3,4,5]\n",
    "print(l2)\n",
    "print(type(l2))"
   ]
  },
  {
   "cell_type": "code",
   "execution_count": null,
   "id": "741d9329-29a3-43fa-98b2-45f10b5517b3",
   "metadata": {},
   "outputs": [],
   "source": [
    "a=np.array(l2)\n",
    "a"
   ]
  },
  {
   "cell_type": "code",
   "execution_count": null,
   "id": "84e9998d-ad4c-4e30-93ef-6766d4b4e140",
   "metadata": {},
   "outputs": [],
   "source": [
    "type(a)"
   ]
  },
  {
   "cell_type": "code",
   "execution_count": null,
   "id": "27866001-99c2-411d-93ad-d4ea39d6baaa",
   "metadata": {},
   "outputs": [],
   "source": [
    "a.ndim"
   ]
  },
  {
   "cell_type": "code",
   "execution_count": null,
   "id": "9396b1cd-a31e-49f1-9417-2120c28b7270",
   "metadata": {},
   "outputs": [],
   "source": [
    "a.size"
   ]
  },
  {
   "cell_type": "code",
   "execution_count": null,
   "id": "d2f18f0b-2a8b-4630-9eb4-93c6812648b4",
   "metadata": {},
   "outputs": [],
   "source": [
    "a.shape"
   ]
  },
  {
   "cell_type": "code",
   "execution_count": null,
   "id": "3f6a9a61-9927-48df-9e1e-649a09d96979",
   "metadata": {},
   "outputs": [],
   "source": [
    "l3 = [[1,2,3,4,5]]\n",
    "l3"
   ]
  },
  {
   "cell_type": "code",
   "execution_count": null,
   "id": "f84a1e36-4bc9-4c1a-9f61-d576ea4a516a",
   "metadata": {},
   "outputs": [],
   "source": [
    "z = np.array(l3)\n",
    "z"
   ]
  },
  {
   "cell_type": "code",
   "execution_count": null,
   "id": "d039c38b-a3a9-4290-bbb0-1c10727e8098",
   "metadata": {},
   "outputs": [],
   "source": [
    "z.ndim"
   ]
  },
  {
   "cell_type": "code",
   "execution_count": null,
   "id": "807a2779-9578-492b-881f-a441b50a3ee3",
   "metadata": {},
   "outputs": [],
   "source": [
    "z.size"
   ]
  },
  {
   "cell_type": "code",
   "execution_count": null,
   "id": "4cde6911-c630-47ae-84d1-94107d1f7124",
   "metadata": {},
   "outputs": [],
   "source": [
    "z.shape"
   ]
  },
  {
   "cell_type": "code",
   "execution_count": null,
   "id": "9caf203c-21ff-4221-b0c7-7258a56df819",
   "metadata": {},
   "outputs": [],
   "source": [
    "print(type(z))"
   ]
  },
  {
   "cell_type": "code",
   "execution_count": null,
   "id": "0c2a6a26-4a58-4472-bb48-b51245fc10e7",
   "metadata": {},
   "outputs": [],
   "source": [
    "my_matrix = [[1,2,3,4],[5,6,7,8],[9,10,11,12]] # list of lists\n",
    "my_matrix"
   ]
  },
  {
   "cell_type": "code",
   "execution_count": null,
   "id": "9eec3b53-e5a2-44e5-83c2-4228e1477302",
   "metadata": {},
   "outputs": [],
   "source": [
    "b=np.array(my_matrix) # generates a 2-d array\n",
    "b"
   ]
  },
  {
   "cell_type": "code",
   "execution_count": null,
   "id": "b907a6b3-610f-4282-a804-d29f6539f0d5",
   "metadata": {},
   "outputs": [],
   "source": [
    "# Array summary\n",
    "print('The Dimension of array',b.ndim) # dimensions of given array"
   ]
  },
  {
   "cell_type": "code",
   "execution_count": null,
   "id": "0601f659-01c8-4225-a555-3cc86f2ebec2",
   "metadata": {},
   "outputs": [],
   "source": [
    "print('The size of array:',b.size) # Number of elements in array"
   ]
  },
  {
   "cell_type": "code",
   "execution_count": null,
   "id": "fa3e03ed-4f80-4389-bd8b-93115d7ebb3f",
   "metadata": {},
   "outputs": [],
   "source": [
    "print('The shape of array:', b.shape)"
   ]
  },
  {
   "cell_type": "code",
   "execution_count": null,
   "id": "3573d0d5-6bdb-4d9a-aa15-d0f1f4b31c25",
   "metadata": {},
   "outputs": [],
   "source": [
    "print('THe datatype of the elements', b.dtype)"
   ]
  },
  {
   "cell_type": "code",
   "execution_count": null,
   "id": "09023225-5ed5-426c-9070-c1201a546bca",
   "metadata": {},
   "outputs": [],
   "source": [
    "print('THe type of structure', type(b))"
   ]
  },
  {
   "cell_type": "code",
   "execution_count": null,
   "id": "0418e055-3d32-466d-b762-ebaca31dd96a",
   "metadata": {},
   "outputs": [],
   "source": [
    "arr1= np.array([[[1,2,3],[4,5,6]], [[7,8,9],[10,11,12]]])\n",
    "arr1"
   ]
  },
  {
   "cell_type": "code",
   "execution_count": null,
   "id": "0387b0bc-250b-4539-9e61-49a634610773",
   "metadata": {},
   "outputs": [],
   "source": [
    "arr1.shape"
   ]
  },
  {
   "cell_type": "code",
   "execution_count": null,
   "id": "5a1d6208-dbed-449e-a03b-e6528e29e126",
   "metadata": {},
   "outputs": [],
   "source": [
    "arr1.size"
   ]
  },
  {
   "cell_type": "code",
   "execution_count": null,
   "id": "aa56db24-c2e8-494e-945c-f9ffbb63f149",
   "metadata": {},
   "outputs": [],
   "source": [
    "type(arr1)"
   ]
  },
  {
   "cell_type": "code",
   "execution_count": null,
   "id": "c3daa25a-dda4-47fd-8c0a-31340ae58bf5",
   "metadata": {},
   "outputs": [],
   "source": [
    "arr1.ndim"
   ]
  },
  {
   "cell_type": "code",
   "execution_count": null,
   "id": "03cfce6d-185c-4be6-9a65-cf02cfa66058",
   "metadata": {},
   "outputs": [],
   "source": [
    "arr1.dtype"
   ]
  },
  {
   "cell_type": "code",
   "execution_count": null,
   "id": "b7fe47fd-b782-41d5-a4ce-5ff66aecec44",
   "metadata": {},
   "outputs": [],
   "source": [
    "arr1"
   ]
  },
  {
   "cell_type": "code",
   "execution_count": null,
   "id": "9ab23e99-eb01-4fc9-b29e-1ec754c12c77",
   "metadata": {},
   "outputs": [],
   "source": [
    "arr1.shape"
   ]
  },
  {
   "cell_type": "code",
   "execution_count": null,
   "id": "a3388714-b8b3-464e-8083-19b4a4becf6d",
   "metadata": {},
   "outputs": [],
   "source": [
    "arr1.shape"
   ]
  },
  {
   "cell_type": "code",
   "execution_count": null,
   "id": "4096c897-bb77-4512-ab2c-7369e6e4ea78",
   "metadata": {},
   "outputs": [],
   "source": [
    "arr1.reshape(4,3)"
   ]
  },
  {
   "cell_type": "code",
   "execution_count": null,
   "id": "dbcf1c82-00be-44a0-abfa-fa823e094943",
   "metadata": {},
   "outputs": [],
   "source": [
    "arr2 = arr1.reshape((1,1,1,2,6))\n",
    "arr2"
   ]
  },
  {
   "cell_type": "code",
   "execution_count": null,
   "id": "d90d2e4d-f320-4668-8026-881a156d7045",
   "metadata": {},
   "outputs": [],
   "source": [
    "arr2.shape"
   ]
  },
  {
   "cell_type": "code",
   "execution_count": null,
   "id": "9dccc012-19b4-40df-aace-bb6b0bb672e5",
   "metadata": {},
   "outputs": [],
   "source": [
    "arr1.ndim"
   ]
  },
  {
   "cell_type": "code",
   "execution_count": null,
   "id": "3bf6538b-985d-42ea-ad22-4852e703cfc3",
   "metadata": {},
   "outputs": [],
   "source": [
    "arr2.ndim"
   ]
  },
  {
   "cell_type": "code",
   "execution_count": null,
   "id": "aa6f76e7-483e-4947-ac55-f3c371f6ed6f",
   "metadata": {},
   "outputs": [],
   "source": [
    "arr3 = arr2.reshape(-1)\n",
    "arr3"
   ]
  },
  {
   "cell_type": "code",
   "execution_count": null,
   "id": "02e52b4e-6e15-4c38-965d-4c6330e06338",
   "metadata": {},
   "outputs": [],
   "source": [
    "np.arange(15)"
   ]
  },
  {
   "cell_type": "code",
   "execution_count": null,
   "id": "b2454bc8-99f0-4128-97a3-845cf6806221",
   "metadata": {},
   "outputs": [],
   "source": [
    "np.arange(2,10)"
   ]
  },
  {
   "cell_type": "code",
   "execution_count": null,
   "id": "076ffe65-918b-462b-85b3-b72c1ceb330f",
   "metadata": {},
   "outputs": [],
   "source": [
    "np.arange(0,10,2)"
   ]
  },
  {
   "cell_type": "code",
   "execution_count": null,
   "id": "c1374ed4-280b-4048-92a4-d9d03b502da8",
   "metadata": {},
   "outputs": [],
   "source": [
    "np.zeros(3)"
   ]
  },
  {
   "cell_type": "code",
   "execution_count": null,
   "id": "8868b620-04cc-40cd-ab05-d3603af4dc7c",
   "metadata": {},
   "outputs": [],
   "source": [
    "np.zeros((5,5))"
   ]
  },
  {
   "cell_type": "code",
   "execution_count": null,
   "id": "e943871c-0019-426f-a413-89aaac63997b",
   "metadata": {},
   "outputs": [],
   "source": [
    "np.zeros((4,5,2))"
   ]
  },
  {
   "cell_type": "code",
   "execution_count": null,
   "id": "1bca4472-fc01-418d-8aef-cb87a4671edd",
   "metadata": {},
   "outputs": [],
   "source": [
    "np.ones(3)"
   ]
  },
  {
   "cell_type": "code",
   "execution_count": null,
   "id": "3ce52b41-2d15-4fb5-9f1f-6efcb3f299dc",
   "metadata": {},
   "outputs": [],
   "source": [
    "np.ones((3,4))"
   ]
  },
  {
   "cell_type": "code",
   "execution_count": null,
   "id": "e1413555-10f9-424d-a665-8a42a4e0ef14",
   "metadata": {},
   "outputs": [],
   "source": [
    "np.linspace(1,15)"
   ]
  },
  {
   "cell_type": "code",
   "execution_count": null,
   "id": "139ad174-f01f-40de-951f-e09ce25d65f6",
   "metadata": {},
   "outputs": [],
   "source": [
    "np.linspace(5,25,num=30,retstep=True)"
   ]
  },
  {
   "cell_type": "code",
   "execution_count": null,
   "id": "fc486205-926c-45ca-8919-f2386a914874",
   "metadata": {},
   "outputs": [],
   "source": [
    "np.linspace(0,25,retstep=True)"
   ]
  },
  {
   "cell_type": "code",
   "execution_count": null,
   "id": "97ef9642-baa5-4b3f-b75b-fdea46401aa5",
   "metadata": {},
   "outputs": [],
   "source": [
    "np.linspace(0,200,10)"
   ]
  },
  {
   "cell_type": "code",
   "execution_count": null,
   "id": "9dfdd3ce-dc40-4e4c-af32-b686a73ec9fa",
   "metadata": {},
   "outputs": [],
   "source": [
    "np.linspace(0,200,10,retstep=True)"
   ]
  },
  {
   "cell_type": "code",
   "execution_count": null,
   "id": "371a32e7-f1d1-4f27-b58c-c57d7458a2bd",
   "metadata": {},
   "outputs": [],
   "source": [
    "np.eye(5)"
   ]
  },
  {
   "cell_type": "code",
   "execution_count": null,
   "id": "b18e1bae-985d-49cd-b694-c73bd0377f14",
   "metadata": {},
   "outputs": [],
   "source": [
    "l1 = [1,2,3,4]"
   ]
  },
  {
   "cell_type": "code",
   "execution_count": null,
   "id": "cf44d26f-16de-43ce-a89e-70910085559f",
   "metadata": {},
   "outputs": [],
   "source": [
    "l1"
   ]
  },
  {
   "cell_type": "code",
   "execution_count": null,
   "id": "4245deae-8689-4253-8647-0abf1308dd95",
   "metadata": {},
   "outputs": [],
   "source": [
    "l1*5"
   ]
  },
  {
   "cell_type": "code",
   "execution_count": null,
   "id": "669e494e-66de-441c-867f-c43654030f86",
   "metadata": {},
   "outputs": [],
   "source": [
    "import numpy as np"
   ]
  },
  {
   "cell_type": "code",
   "execution_count": null,
   "id": "ccb484f8-0a5f-4865-81b5-5c72f6db5626",
   "metadata": {},
   "outputs": [],
   "source": [
    "a = np.array(l1)\n",
    "a"
   ]
  },
  {
   "cell_type": "code",
   "execution_count": null,
   "id": "7f447caa-b3b0-4835-9eeb-8158af550183",
   "metadata": {},
   "outputs": [],
   "source": [
    "a*5"
   ]
  },
  {
   "cell_type": "code",
   "execution_count": null,
   "id": "d8ba1470-8da2-4086-aff7-fd11581111a7",
   "metadata": {},
   "outputs": [],
   "source": [
    "big_one=np.ones((3,4))\n",
    "print(big_one)"
   ]
  },
  {
   "cell_type": "code",
   "execution_count": null,
   "id": "3b4059fb-faac-43d6-b917-2ce0b6638f41",
   "metadata": {},
   "outputs": [],
   "source": [
    "big_one.dtype"
   ]
  },
  {
   "cell_type": "code",
   "execution_count": null,
   "id": "3bb18bb8-6228-42db-be14-18ac09180445",
   "metadata": {},
   "outputs": [],
   "source": [
    "big_one*3"
   ]
  },
  {
   "cell_type": "code",
   "execution_count": null,
   "id": "471ba541-623b-4dfe-b86b-f6be12170cf6",
   "metadata": {},
   "outputs": [],
   "source": [
    "bigger_one=big_one*6 - 2\n",
    "bigger_one"
   ]
  },
  {
   "cell_type": "code",
   "execution_count": null,
   "id": "ec2d0db0-8234-41ed-a99e-5f56bfec4fa5",
   "metadata": {},
   "outputs": [],
   "source": [
    "bigger=np.array(big_one*3 - 0.4, dtype='int')\n",
    "print(bigger)"
   ]
  },
  {
   "cell_type": "code",
   "execution_count": null,
   "id": "5a05c106-8e77-428d-b159-b3af97d8e16f",
   "metadata": {},
   "outputs": [],
   "source": [
    "bigger.dtype"
   ]
  },
  {
   "cell_type": "code",
   "execution_count": null,
   "id": "25af1ba2-d938-4c0d-8800-0371cee3cf59",
   "metadata": {},
   "outputs": [],
   "source": [
    "type(bigger)"
   ]
  },
  {
   "cell_type": "code",
   "execution_count": null,
   "id": "e7d0d372-c6ae-47c5-8489-274fe958b96f",
   "metadata": {},
   "outputs": [],
   "source": [
    "bigger.shape"
   ]
  },
  {
   "cell_type": "code",
   "execution_count": null,
   "id": "15efea80-cbca-4b4d-b658-10037254fd4e",
   "metadata": {},
   "outputs": [],
   "source": [
    "arr1"
   ]
  },
  {
   "cell_type": "code",
   "execution_count": null,
   "id": "136f0935-8cf9-438f-8291-75b725752bf1",
   "metadata": {},
   "outputs": [],
   "source": [
    "arr = np.array([1,2,3,4,5,6,7,8,9,10,11,12,13,14,15,16,17,18,19,20])\n",
    "arr"
   ]
  },
  {
   "cell_type": "code",
   "execution_count": null,
   "id": "fe2fc8bc-95e5-41bd-b780-cd925e5d3343",
   "metadata": {},
   "outputs": [],
   "source": [
    "arr1 = arr\n",
    "arr1"
   ]
  },
  {
   "cell_type": "code",
   "execution_count": null,
   "id": "072f5693-4591-40b3-bdb0-af80ca3d98e7",
   "metadata": {},
   "outputs": [],
   "source": [
    "arr1[1:6] = 100\n",
    "arr1"
   ]
  },
  {
   "cell_type": "code",
   "execution_count": null,
   "id": "0afd2e37-19ea-4fdd-9066-43297927889b",
   "metadata": {},
   "outputs": [],
   "source": [
    "arr2 = arr.copy()"
   ]
  },
  {
   "cell_type": "code",
   "execution_count": null,
   "id": "a58ae122-3631-4257-861c-523a5449fc53",
   "metadata": {},
   "outputs": [],
   "source": [
    "arr2"
   ]
  },
  {
   "cell_type": "code",
   "execution_count": null,
   "id": "45301cfd-c09e-434d-b089-3a7efd1d69f3",
   "metadata": {},
   "outputs": [],
   "source": [
    "arr2[1:6]=500\n",
    "arr2"
   ]
  },
  {
   "cell_type": "code",
   "execution_count": null,
   "id": "cd4a97b9-718d-4cb5-984b-6cce4a2098d6",
   "metadata": {},
   "outputs": [],
   "source": [
    "arr"
   ]
  },
  {
   "cell_type": "code",
   "execution_count": null,
   "id": "3099e7a4-a1b9-46b3-ab8a-2c8f78775c70",
   "metadata": {},
   "outputs": [],
   "source": [
    "id(arr)"
   ]
  },
  {
   "cell_type": "code",
   "execution_count": null,
   "id": "aa897e64-d71f-4224-92f3-151da8692ce1",
   "metadata": {},
   "outputs": [],
   "source": [
    "id(arr1)"
   ]
  },
  {
   "cell_type": "code",
   "execution_count": null,
   "id": "b5472951-4cc1-497e-b69d-4879df63d3ed",
   "metadata": {},
   "outputs": [],
   "source": [
    "id(arr2)"
   ]
  },
  {
   "cell_type": "code",
   "execution_count": null,
   "id": "87f72d31-9973-4b3d-bd24-9b4e8c45f871",
   "metadata": {},
   "outputs": [],
   "source": [
    "np.random.rand()"
   ]
  },
  {
   "cell_type": "code",
   "execution_count": null,
   "id": "14ce9b88-39bc-4b7e-ab1c-c5cd7e4b3286",
   "metadata": {},
   "outputs": [],
   "source": [
    "np.random.rand(5)"
   ]
  },
  {
   "cell_type": "code",
   "execution_count": null,
   "id": "ca6fa551-ad8b-4824-84d4-ba69aaa9afb3",
   "metadata": {},
   "outputs": [],
   "source": [
    "np.random.rand(5,2)"
   ]
  },
  {
   "cell_type": "code",
   "execution_count": null,
   "id": "2fbd6377-0ea8-412b-954d-b9e96d2697b8",
   "metadata": {},
   "outputs": [],
   "source": [
    "new_arr = np.random.rand(5,3,2)\n",
    "new_arr"
   ]
  },
  {
   "cell_type": "code",
   "execution_count": null,
   "id": "ac2315d0-d6f1-4c97-afe2-b9c1c6e02db5",
   "metadata": {},
   "outputs": [],
   "source": [
    "arr3=np.random.randn(5)\n",
    "arr3"
   ]
  },
  {
   "cell_type": "code",
   "execution_count": null,
   "id": "b6e49c30-b1be-4eec-b39d-2465892c8707",
   "metadata": {},
   "outputs": [],
   "source": [
    "np.mean(arr3)"
   ]
  },
  {
   "cell_type": "code",
   "execution_count": null,
   "id": "bec423d5-eb41-4860-b934-b4bb5ffcd564",
   "metadata": {},
   "outputs": [],
   "source": [
    "np.std(arr3)"
   ]
  },
  {
   "cell_type": "code",
   "execution_count": null,
   "id": "aa567503-c02f-4a68-b9bf-ec348982f24d",
   "metadata": {},
   "outputs": [],
   "source": [
    "np.random.randint(1,100)"
   ]
  },
  {
   "cell_type": "code",
   "execution_count": null,
   "id": "e4f7ef04-c4c5-4669-a897-c3f1a925331c",
   "metadata": {},
   "outputs": [],
   "source": [
    "np.random.randint(1,100,10)"
   ]
  },
  {
   "cell_type": "code",
   "execution_count": null,
   "id": "4f4e8480-ff4c-4e0c-be0e-9182666dc3e5",
   "metadata": {},
   "outputs": [],
   "source": [
    "np.random.randint(40,60,size=50)"
   ]
  },
  {
   "cell_type": "code",
   "execution_count": null,
   "id": "4b293970-c13c-4d61-ae6d-fa47ac8fea2b",
   "metadata": {},
   "outputs": [],
   "source": [
    "arr"
   ]
  },
  {
   "cell_type": "code",
   "execution_count": null,
   "id": "4597b60a-0339-43d5-9a5f-231a50b82d3b",
   "metadata": {},
   "outputs": [],
   "source": [
    "np.add(arr,3)"
   ]
  },
  {
   "cell_type": "code",
   "execution_count": null,
   "id": "617a8a40-c5df-4d83-b50c-8450df48330c",
   "metadata": {},
   "outputs": [],
   "source": [
    "np.sum(arr)"
   ]
  },
  {
   "cell_type": "code",
   "execution_count": null,
   "id": "859d8795-808b-4704-a649-60f53355f2ab",
   "metadata": {},
   "outputs": [],
   "source": [
    "np.sqrt(arr)"
   ]
  },
  {
   "cell_type": "code",
   "execution_count": null,
   "id": "7aee1f29-f043-4d2d-9060-210ef293907f",
   "metadata": {},
   "outputs": [],
   "source": [
    "np.cbrt(arr)"
   ]
  },
  {
   "cell_type": "code",
   "execution_count": null,
   "id": "2bb771c7-5778-4874-988f-28c629689f64",
   "metadata": {},
   "outputs": [],
   "source": [
    "np.exp(arr)"
   ]
  },
  {
   "cell_type": "code",
   "execution_count": null,
   "id": "fed2ba42-db15-423d-ae80-06488e10326e",
   "metadata": {},
   "outputs": [],
   "source": [
    "np.sin(arr)"
   ]
  },
  {
   "cell_type": "code",
   "execution_count": null,
   "id": "bbf86956-98db-4219-8ff1-242fb772628f",
   "metadata": {},
   "outputs": [],
   "source": [
    "np.cos(arr)"
   ]
  },
  {
   "cell_type": "code",
   "execution_count": null,
   "id": "ddd29475-230f-47cd-b03c-09ba41198bf5",
   "metadata": {},
   "outputs": [],
   "source": [
    "np.tan(arr)"
   ]
  },
  {
   "cell_type": "code",
   "execution_count": null,
   "id": "45fbb4c5-f292-4416-a2a1-c2c6265d5486",
   "metadata": {},
   "outputs": [],
   "source": [
    "np.log(arr)"
   ]
  },
  {
   "cell_type": "code",
   "execution_count": null,
   "id": "b470f85a-cc31-4731-ab80-f047b16051c6",
   "metadata": {},
   "outputs": [],
   "source": [
    "np.mean(arr)"
   ]
  },
  {
   "cell_type": "code",
   "execution_count": null,
   "id": "abb4b698-c155-431e-a2bf-20fabeaf73e3",
   "metadata": {},
   "outputs": [],
   "source": [
    "arr2=np.random.randint(1,100,20)"
   ]
  },
  {
   "cell_type": "code",
   "execution_count": null,
   "id": "21c27507-cc7b-4fd0-8e26-5b1609f8df1a",
   "metadata": {},
   "outputs": [],
   "source": [
    "arr2"
   ]
  },
  {
   "cell_type": "code",
   "execution_count": null,
   "id": "3798fdb0-3cd2-47d9-95c5-7dea07ceccbe",
   "metadata": {},
   "outputs": [],
   "source": [
    "arr2.min()"
   ]
  },
  {
   "cell_type": "code",
   "execution_count": null,
   "id": "e6ae59c4-8980-4ab5-9160-9e4a5ec89366",
   "metadata": {},
   "outputs": [],
   "source": [
    "arr2.max()"
   ]
  },
  {
   "cell_type": "code",
   "execution_count": null,
   "id": "5373c4b0-965a-4659-8d35-4e5f811c709f",
   "metadata": {},
   "outputs": [],
   "source": [
    "arr2.argmax()"
   ]
  },
  {
   "cell_type": "code",
   "execution_count": null,
   "id": "3bf00545-1b19-42a4-9b73-75640c838ff4",
   "metadata": {},
   "outputs": [],
   "source": [
    "arr2.argmin()"
   ]
  },
  {
   "cell_type": "code",
   "execution_count": null,
   "id": "148b188b-f2ae-4a0d-9873-077337ad6e88",
   "metadata": {},
   "outputs": [],
   "source": []
  },
  {
   "cell_type": "code",
   "execution_count": null,
   "id": "db2ca266-1ad4-4d1f-aa4a-cd807252cc3a",
   "metadata": {},
   "outputs": [],
   "source": []
  },
  {
   "cell_type": "code",
   "execution_count": null,
   "id": "7b6f9c97-0626-4211-9d64-2ec024fabe13",
   "metadata": {},
   "outputs": [],
   "source": []
  },
  {
   "cell_type": "code",
   "execution_count": null,
   "id": "4efc428a-fcda-476b-ab55-c4b7becd0130",
   "metadata": {},
   "outputs": [],
   "source": []
  },
  {
   "cell_type": "code",
   "execution_count": null,
   "id": "b7ec7a85-0295-47bf-9b67-a7a8286406e6",
   "metadata": {},
   "outputs": [],
   "source": []
  },
  {
   "cell_type": "code",
   "execution_count": null,
   "id": "7eef4867-379e-4b33-bca2-d45e30cacb7d",
   "metadata": {},
   "outputs": [],
   "source": []
  },
  {
   "cell_type": "code",
   "execution_count": null,
   "id": "3deeba78-0b54-4361-b372-c6fba33665c7",
   "metadata": {},
   "outputs": [],
   "source": []
  },
  {
   "cell_type": "code",
   "execution_count": null,
   "id": "12e56cce-2cf9-4cc5-af9a-f7473bea86f9",
   "metadata": {},
   "outputs": [],
   "source": []
  },
  {
   "cell_type": "code",
   "execution_count": null,
   "id": "f2bf8ad6-e26f-4aef-99e7-c4635b57865c",
   "metadata": {},
   "outputs": [],
   "source": []
  },
  {
   "cell_type": "code",
   "execution_count": null,
   "id": "35ab39b5-b2f9-43f3-abc9-1b3fd54a0d07",
   "metadata": {},
   "outputs": [],
   "source": []
  },
  {
   "cell_type": "code",
   "execution_count": null,
   "id": "2c2503a2-1a82-48d6-b3ad-c4a946da01d5",
   "metadata": {},
   "outputs": [],
   "source": []
  },
  {
   "cell_type": "code",
   "execution_count": null,
   "id": "98b0649b-fcd1-4d62-abc7-f03b6e0c02e6",
   "metadata": {},
   "outputs": [],
   "source": []
  },
  {
   "cell_type": "code",
   "execution_count": null,
   "id": "c06f86e6-0612-4dac-8458-7ea57ce19753",
   "metadata": {},
   "outputs": [],
   "source": []
  },
  {
   "cell_type": "code",
   "execution_count": null,
   "id": "7f7ede07-36e0-4a73-8f81-cfa8027967f5",
   "metadata": {},
   "outputs": [],
   "source": []
  },
  {
   "cell_type": "code",
   "execution_count": null,
   "id": "7f8e7330-1463-41e8-ae1b-5a83f0f7a793",
   "metadata": {},
   "outputs": [],
   "source": []
  }
 ],
 "metadata": {
  "kernelspec": {
   "display_name": "Python 3 (ipykernel)",
   "language": "python",
   "name": "python3"
  },
  "language_info": {
   "codemirror_mode": {
    "name": "ipython",
    "version": 3
   },
   "file_extension": ".py",
   "mimetype": "text/x-python",
   "name": "python",
   "nbconvert_exporter": "python",
   "pygments_lexer": "ipython3",
   "version": "3.9.18"
  }
 },
 "nbformat": 4,
 "nbformat_minor": 5
}
